{
 "cells": [
  {
   "cell_type": "code",
   "execution_count": 1,
   "id": "594b9c83",
   "metadata": {},
   "outputs": [],
   "source": [
    "import pandas as pd\n",
    "from datetime import datetime\n",
    "from sklearn import preprocessing\n",
    "scaler = preprocessing.MinMaxScaler()\n",
    "from sklearn.model_selection import train_test_split\n",
    "import numpy as np\n",
    "import numpy as np\n",
    "import matplotlib.pyplot as plt\n",
    "from matplotlib.colors import ListedColormap\n",
    "from sklearn.model_selection import train_test_split\n",
    "from sklearn.preprocessing import StandardScaler\n",
    "from sklearn.datasets import make_moons, make_circles, make_classification\n",
    "from sklearn.neural_network import MLPClassifier\n",
    "from sklearn.neighbors import KNeighborsClassifier\n",
    "from sklearn.svm import SVC\n",
    "from sklearn.gaussian_process import GaussianProcessClassifier\n",
    "from sklearn.gaussian_process.kernels import RBF\n",
    "from sklearn.tree import DecisionTreeClassifier\n",
    "from sklearn.ensemble import RandomForestClassifier, AdaBoostClassifier\n",
    "from sklearn.naive_bayes import GaussianNB\n",
    "from sklearn.discriminant_analysis import QuadraticDiscriminantAnalysis\n",
    "from sklearn.metrics import confusion_matrix\n",
    "from sklearn.metrics import classification_report\n",
    "import matplotlib.pyplot as plt\n",
    "import seaborn as sns\n",
    "from sklearn.metrics import accuracy_score\n",
    "from sklearn.metrics import f1_score\n",
    "from sklearn.metrics import recall_score\n",
    "from sklearn.decomposition import PCA\n",
    "from sklearn.preprocessing import MinMaxScaler\n",
    "from sklearn.preprocessing import StandardScaler\n",
    "import warnings\n",
    "warnings.filterwarnings('ignore')"
   ]
  },
  {
   "cell_type": "code",
   "execution_count": 2,
   "id": "e5771fe1",
   "metadata": {},
   "outputs": [],
   "source": [
    "fr = pd.read_csv(\"fr.csv\")\n",
    "th = pd.read_csv(\"th.csv\")"
   ]
  },
  {
   "cell_type": "code",
   "execution_count": 3,
   "id": "58f7294a",
   "metadata": {},
   "outputs": [
    {
     "data": {
      "text/html": [
       "<div>\n",
       "<style scoped>\n",
       "    .dataframe tbody tr th:only-of-type {\n",
       "        vertical-align: middle;\n",
       "    }\n",
       "\n",
       "    .dataframe tbody tr th {\n",
       "        vertical-align: top;\n",
       "    }\n",
       "\n",
       "    .dataframe thead th {\n",
       "        text-align: right;\n",
       "    }\n",
       "</style>\n",
       "<table border=\"1\" class=\"dataframe\">\n",
       "  <thead>\n",
       "    <tr style=\"text-align: right;\">\n",
       "      <th></th>\n",
       "      <th>Unnamed: 0</th>\n",
       "      <th>dst2src_min_ps</th>\n",
       "      <th>dst2src_stddev_ps</th>\n",
       "      <th>bidirectional_max_piat_ms</th>\n",
       "      <th>bidirectional_min_piat_ms</th>\n",
       "      <th>src2dst_max_ps</th>\n",
       "      <th>dst2src_packets</th>\n",
       "      <th>bidirectional_bytes</th>\n",
       "      <th>bidirectional_duration_ms</th>\n",
       "      <th>labels</th>\n",
       "    </tr>\n",
       "  </thead>\n",
       "  <tbody>\n",
       "    <tr>\n",
       "      <th>0</th>\n",
       "      <td>0</td>\n",
       "      <td>56</td>\n",
       "      <td>3.077935</td>\n",
       "      <td>50763</td>\n",
       "      <td>0</td>\n",
       "      <td>68</td>\n",
       "      <td>20</td>\n",
       "      <td>2360</td>\n",
       "      <td>93070</td>\n",
       "      <td>0</td>\n",
       "    </tr>\n",
       "    <tr>\n",
       "      <th>1</th>\n",
       "      <td>1</td>\n",
       "      <td>48</td>\n",
       "      <td>0.000000</td>\n",
       "      <td>0</td>\n",
       "      <td>0</td>\n",
       "      <td>32</td>\n",
       "      <td>2</td>\n",
       "      <td>160</td>\n",
       "      <td>0</td>\n",
       "      <td>0</td>\n",
       "    </tr>\n",
       "    <tr>\n",
       "      <th>2</th>\n",
       "      <td>2</td>\n",
       "      <td>163</td>\n",
       "      <td>0.000000</td>\n",
       "      <td>0</td>\n",
       "      <td>0</td>\n",
       "      <td>207</td>\n",
       "      <td>2</td>\n",
       "      <td>740</td>\n",
       "      <td>0</td>\n",
       "      <td>0</td>\n",
       "    </tr>\n",
       "    <tr>\n",
       "      <th>3</th>\n",
       "      <td>3</td>\n",
       "      <td>0</td>\n",
       "      <td>295.665595</td>\n",
       "      <td>25178</td>\n",
       "      <td>0</td>\n",
       "      <td>936</td>\n",
       "      <td>18</td>\n",
       "      <td>6350</td>\n",
       "      <td>26392</td>\n",
       "      <td>0</td>\n",
       "    </tr>\n",
       "    <tr>\n",
       "      <th>4</th>\n",
       "      <td>4</td>\n",
       "      <td>0</td>\n",
       "      <td>95.822380</td>\n",
       "      <td>1</td>\n",
       "      <td>0</td>\n",
       "      <td>233</td>\n",
       "      <td>8</td>\n",
       "      <td>880</td>\n",
       "      <td>1</td>\n",
       "      <td>0</td>\n",
       "    </tr>\n",
       "  </tbody>\n",
       "</table>\n",
       "</div>"
      ],
      "text/plain": [
       "   Unnamed: 0  dst2src_min_ps  dst2src_stddev_ps  bidirectional_max_piat_ms  \\\n",
       "0           0              56           3.077935                      50763   \n",
       "1           1              48           0.000000                          0   \n",
       "2           2             163           0.000000                          0   \n",
       "3           3               0         295.665595                      25178   \n",
       "4           4               0          95.822380                          1   \n",
       "\n",
       "   bidirectional_min_piat_ms  src2dst_max_ps  dst2src_packets  \\\n",
       "0                          0              68               20   \n",
       "1                          0              32                2   \n",
       "2                          0             207                2   \n",
       "3                          0             936               18   \n",
       "4                          0             233                8   \n",
       "\n",
       "   bidirectional_bytes  bidirectional_duration_ms  labels  \n",
       "0                 2360                      93070       0  \n",
       "1                  160                          0       0  \n",
       "2                  740                          0       0  \n",
       "3                 6350                      26392       0  \n",
       "4                  880                          1       0  "
      ]
     },
     "execution_count": 3,
     "metadata": {},
     "output_type": "execute_result"
    }
   ],
   "source": [
    "fr.head()"
   ]
  },
  {
   "cell_type": "code",
   "execution_count": 4,
   "id": "9341892a",
   "metadata": {},
   "outputs": [
    {
     "data": {
      "text/html": [
       "<div>\n",
       "<style scoped>\n",
       "    .dataframe tbody tr th:only-of-type {\n",
       "        vertical-align: middle;\n",
       "    }\n",
       "\n",
       "    .dataframe tbody tr th {\n",
       "        vertical-align: top;\n",
       "    }\n",
       "\n",
       "    .dataframe thead th {\n",
       "        text-align: right;\n",
       "    }\n",
       "</style>\n",
       "<table border=\"1\" class=\"dataframe\">\n",
       "  <thead>\n",
       "    <tr style=\"text-align: right;\">\n",
       "      <th></th>\n",
       "      <th>Unnamed: 0</th>\n",
       "      <th>dst2src_min_ps</th>\n",
       "      <th>dst2src_stddev_ps</th>\n",
       "      <th>bidirectional_max_piat_ms</th>\n",
       "      <th>bidirectional_min_piat_ms</th>\n",
       "      <th>src2dst_max_ps</th>\n",
       "      <th>dst2src_packets</th>\n",
       "      <th>bidirectional_bytes</th>\n",
       "      <th>bidirectional_duration_ms</th>\n",
       "      <th>labels</th>\n",
       "    </tr>\n",
       "  </thead>\n",
       "  <tbody>\n",
       "    <tr>\n",
       "      <th>0</th>\n",
       "      <td>0</td>\n",
       "      <td>0</td>\n",
       "      <td>0.0</td>\n",
       "      <td>0</td>\n",
       "      <td>0</td>\n",
       "      <td>16</td>\n",
       "      <td>0</td>\n",
       "      <td>160</td>\n",
       "      <td>0</td>\n",
       "      <td>0</td>\n",
       "    </tr>\n",
       "    <tr>\n",
       "      <th>1</th>\n",
       "      <td>1</td>\n",
       "      <td>0</td>\n",
       "      <td>0.0</td>\n",
       "      <td>15247</td>\n",
       "      <td>0</td>\n",
       "      <td>28</td>\n",
       "      <td>0</td>\n",
       "      <td>532</td>\n",
       "      <td>15251</td>\n",
       "      <td>0</td>\n",
       "    </tr>\n",
       "    <tr>\n",
       "      <th>2</th>\n",
       "      <td>2</td>\n",
       "      <td>0</td>\n",
       "      <td>0.0</td>\n",
       "      <td>4008</td>\n",
       "      <td>0</td>\n",
       "      <td>8</td>\n",
       "      <td>0</td>\n",
       "      <td>216</td>\n",
       "      <td>8012</td>\n",
       "      <td>0</td>\n",
       "    </tr>\n",
       "    <tr>\n",
       "      <th>3</th>\n",
       "      <td>3</td>\n",
       "      <td>109</td>\n",
       "      <td>0.0</td>\n",
       "      <td>24</td>\n",
       "      <td>24</td>\n",
       "      <td>34</td>\n",
       "      <td>1</td>\n",
       "      <td>143</td>\n",
       "      <td>24</td>\n",
       "      <td>0</td>\n",
       "    </tr>\n",
       "    <tr>\n",
       "      <th>4</th>\n",
       "      <td>4</td>\n",
       "      <td>95</td>\n",
       "      <td>0.0</td>\n",
       "      <td>27</td>\n",
       "      <td>0</td>\n",
       "      <td>34</td>\n",
       "      <td>2</td>\n",
       "      <td>258</td>\n",
       "      <td>27</td>\n",
       "      <td>0</td>\n",
       "    </tr>\n",
       "  </tbody>\n",
       "</table>\n",
       "</div>"
      ],
      "text/plain": [
       "   Unnamed: 0  dst2src_min_ps  dst2src_stddev_ps  bidirectional_max_piat_ms  \\\n",
       "0           0               0                0.0                          0   \n",
       "1           1               0                0.0                      15247   \n",
       "2           2               0                0.0                       4008   \n",
       "3           3             109                0.0                         24   \n",
       "4           4              95                0.0                         27   \n",
       "\n",
       "   bidirectional_min_piat_ms  src2dst_max_ps  dst2src_packets  \\\n",
       "0                          0              16                0   \n",
       "1                          0              28                0   \n",
       "2                          0               8                0   \n",
       "3                         24              34                1   \n",
       "4                          0              34                2   \n",
       "\n",
       "   bidirectional_bytes  bidirectional_duration_ms  labels  \n",
       "0                  160                          0       0  \n",
       "1                  532                      15251       0  \n",
       "2                  216                       8012       0  \n",
       "3                  143                         24       0  \n",
       "4                  258                         27       0  "
      ]
     },
     "execution_count": 4,
     "metadata": {},
     "output_type": "execute_result"
    }
   ],
   "source": [
    "th.head()"
   ]
  },
  {
   "cell_type": "code",
   "execution_count": 5,
   "id": "1a928c74",
   "metadata": {},
   "outputs": [
    {
     "data": {
      "text/html": [
       "<div>\n",
       "<style scoped>\n",
       "    .dataframe tbody tr th:only-of-type {\n",
       "        vertical-align: middle;\n",
       "    }\n",
       "\n",
       "    .dataframe tbody tr th {\n",
       "        vertical-align: top;\n",
       "    }\n",
       "\n",
       "    .dataframe thead th {\n",
       "        text-align: right;\n",
       "    }\n",
       "</style>\n",
       "<table border=\"1\" class=\"dataframe\">\n",
       "  <thead>\n",
       "    <tr style=\"text-align: right;\">\n",
       "      <th></th>\n",
       "      <th>Unnamed: 0</th>\n",
       "      <th>dst2src_min_ps</th>\n",
       "      <th>dst2src_stddev_ps</th>\n",
       "      <th>bidirectional_max_piat_ms</th>\n",
       "      <th>bidirectional_min_piat_ms</th>\n",
       "      <th>src2dst_max_ps</th>\n",
       "      <th>dst2src_packets</th>\n",
       "      <th>bidirectional_bytes</th>\n",
       "      <th>bidirectional_duration_ms</th>\n",
       "      <th>labels</th>\n",
       "    </tr>\n",
       "  </thead>\n",
       "  <tbody>\n",
       "    <tr>\n",
       "      <th>0</th>\n",
       "      <td>0</td>\n",
       "      <td>56</td>\n",
       "      <td>3.077935</td>\n",
       "      <td>50763</td>\n",
       "      <td>0</td>\n",
       "      <td>68</td>\n",
       "      <td>20</td>\n",
       "      <td>2360</td>\n",
       "      <td>93070</td>\n",
       "      <td>0</td>\n",
       "    </tr>\n",
       "    <tr>\n",
       "      <th>1</th>\n",
       "      <td>1</td>\n",
       "      <td>48</td>\n",
       "      <td>0.000000</td>\n",
       "      <td>0</td>\n",
       "      <td>0</td>\n",
       "      <td>32</td>\n",
       "      <td>2</td>\n",
       "      <td>160</td>\n",
       "      <td>0</td>\n",
       "      <td>0</td>\n",
       "    </tr>\n",
       "    <tr>\n",
       "      <th>2</th>\n",
       "      <td>2</td>\n",
       "      <td>163</td>\n",
       "      <td>0.000000</td>\n",
       "      <td>0</td>\n",
       "      <td>0</td>\n",
       "      <td>207</td>\n",
       "      <td>2</td>\n",
       "      <td>740</td>\n",
       "      <td>0</td>\n",
       "      <td>0</td>\n",
       "    </tr>\n",
       "    <tr>\n",
       "      <th>3</th>\n",
       "      <td>3</td>\n",
       "      <td>0</td>\n",
       "      <td>295.665595</td>\n",
       "      <td>25178</td>\n",
       "      <td>0</td>\n",
       "      <td>936</td>\n",
       "      <td>18</td>\n",
       "      <td>6350</td>\n",
       "      <td>26392</td>\n",
       "      <td>0</td>\n",
       "    </tr>\n",
       "    <tr>\n",
       "      <th>4</th>\n",
       "      <td>4</td>\n",
       "      <td>0</td>\n",
       "      <td>95.822380</td>\n",
       "      <td>1</td>\n",
       "      <td>0</td>\n",
       "      <td>233</td>\n",
       "      <td>8</td>\n",
       "      <td>880</td>\n",
       "      <td>1</td>\n",
       "      <td>0</td>\n",
       "    </tr>\n",
       "  </tbody>\n",
       "</table>\n",
       "</div>"
      ],
      "text/plain": [
       "   Unnamed: 0  dst2src_min_ps  dst2src_stddev_ps  bidirectional_max_piat_ms  \\\n",
       "0           0              56           3.077935                      50763   \n",
       "1           1              48           0.000000                          0   \n",
       "2           2             163           0.000000                          0   \n",
       "3           3               0         295.665595                      25178   \n",
       "4           4               0          95.822380                          1   \n",
       "\n",
       "   bidirectional_min_piat_ms  src2dst_max_ps  dst2src_packets  \\\n",
       "0                          0              68               20   \n",
       "1                          0              32                2   \n",
       "2                          0             207                2   \n",
       "3                          0             936               18   \n",
       "4                          0             233                8   \n",
       "\n",
       "   bidirectional_bytes  bidirectional_duration_ms  labels  \n",
       "0                 2360                      93070       0  \n",
       "1                  160                          0       0  \n",
       "2                  740                          0       0  \n",
       "3                 6350                      26392       0  \n",
       "4                  880                          1       0  "
      ]
     },
     "execution_count": 5,
     "metadata": {},
     "output_type": "execute_result"
    }
   ],
   "source": [
    "full = pd.concat([fr,th])\n",
    "full.head()"
   ]
  },
  {
   "cell_type": "code",
   "execution_count": 6,
   "id": "77d0ac29",
   "metadata": {},
   "outputs": [],
   "source": [
    "full = full.drop(\"Unnamed: 0\", axis=1)"
   ]
  },
  {
   "cell_type": "code",
   "execution_count": 7,
   "id": "d4a49480",
   "metadata": {},
   "outputs": [
    {
     "data": {
      "text/plain": [
       "0    629068\n",
       "1    215162\n",
       "Name: labels, dtype: int64"
      ]
     },
     "execution_count": 7,
     "metadata": {},
     "output_type": "execute_result"
    }
   ],
   "source": [
    "full[\"labels\"].value_counts()"
   ]
  },
  {
   "cell_type": "code",
   "execution_count": 8,
   "id": "c0726f20",
   "metadata": {},
   "outputs": [
    {
     "data": {
      "text/plain": [
       "<AxesSubplot:>"
      ]
     },
     "execution_count": 8,
     "metadata": {},
     "output_type": "execute_result"
    },
    {
     "data": {
      "image/png": "[encoded data removed]",
      "text/plain": [
       "<Figure size 1440x1080 with 2 Axes>"
      ]
     },
     "metadata": {
      "needs_background": "light"
     },
     "output_type": "display_data"
    }
   ],
   "source": [
    "for_cor = full\n",
    "corr = full.corr(method=\"pearson\")\n",
    "plt.subplots(figsize=(20,15))\n",
    "sns.heatmap(corr.iloc[1:20:, 1:20:], annot=True)"
   ]
  },
  {
   "cell_type": "code",
   "execution_count": 9,
   "id": "325b7f1d",
   "metadata": {},
   "outputs": [],
   "source": [
    "full = full.drop(\"bidirectional_bytes\", axis=1)"
   ]
  },
  {
   "cell_type": "markdown",
   "id": "08911953",
   "metadata": {},
   "source": [
    "# Что используем"
   ]
  },
  {
   "cell_type": "code",
   "execution_count": 10,
   "id": "f19a850d",
   "metadata": {},
   "outputs": [
    {
     "data": {
      "text/plain": [
       "Index(['dst2src_min_ps', 'dst2src_stddev_ps', 'bidirectional_max_piat_ms',\n",
       "       'bidirectional_min_piat_ms', 'src2dst_max_ps', 'dst2src_packets',\n",
       "       'bidirectional_duration_ms', 'labels'],\n",
       "      dtype='object')"
      ]
     },
     "execution_count": 10,
     "metadata": {},
     "output_type": "execute_result"
    }
   ],
   "source": [
    "full.columns"
   ]
  },
  {
   "cell_type": "markdown",
   "id": "d6910bc4",
   "metadata": {},
   "source": [
    "# Подготовка"
   ]
  },
  {
   "cell_type": "code",
   "execution_count": 11,
   "id": "e88b11d0",
   "metadata": {},
   "outputs": [
    {
     "data": {
      "text/plain": [
       "0         0\n",
       "1         0\n",
       "2         0\n",
       "3         0\n",
       "4         0\n",
       "         ..\n",
       "343129    0\n",
       "343130    0\n",
       "343131    0\n",
       "343132    0\n",
       "343133    0\n",
       "Name: labels, Length: 844230, dtype: int64"
      ]
     },
     "execution_count": 11,
     "metadata": {},
     "output_type": "execute_result"
    }
   ],
   "source": [
    "labels = full[\"labels\"]\n",
    "labels"
   ]
  },
  {
   "cell_type": "code",
   "execution_count": 12,
   "id": "5dc8bc68",
   "metadata": {},
   "outputs": [],
   "source": [
    "full = full.drop(\"labels\", axis=1)"
   ]
  },
  {
   "cell_type": "code",
   "execution_count": 13,
   "id": "3f5a38df",
   "metadata": {},
   "outputs": [],
   "source": [
    "X_train, X_test, y_train, y_test = train_test_split(full, labels, test_size=0.2, random_state=666, shuffle=True)"
   ]
  },
  {
   "cell_type": "code",
   "execution_count": 14,
   "id": "03bd4af7",
   "metadata": {},
   "outputs": [],
   "source": [
    "from sklearn.model_selection import RandomizedSearchCV\n",
    "from sklearn.model_selection import GridSearchCV"
   ]
  },
  {
   "cell_type": "code",
   "execution_count": 17,
   "id": "ff22ad31",
   "metadata": {},
   "outputs": [
    {
     "name": "stdout",
     "output_type": "stream",
     "text": [
      "Fitting 2 folds for each of 20 candidates, totalling 40 fits\n"
     ]
    },
    {
     "name": "stderr",
     "output_type": "stream",
     "text": [
      "[Parallel(n_jobs=-1)]: Using backend LokyBackend with 8 concurrent workers.\n",
      "[Parallel(n_jobs=-1)]: Done  40 out of  40 | elapsed:  7.8min finished\n"
     ]
    },
    {
     "data": {
      "text/plain": [
       "{'n_estimators': 67,\n",
       " 'min_samples_split': 111,\n",
       " 'min_samples_leaf': 29,\n",
       " 'max_features': 'sqrt',\n",
       " 'max_depth': 20,\n",
       " 'criterion': 'gini',\n",
       " 'bootstrap': False}"
      ]
     },
     "execution_count": 17,
     "metadata": {},
     "output_type": "execute_result"
    }
   ],
   "source": [
    "n_estimators = [int(x) for x in np.linspace(start = 15, stop = 200, num = 15)]\n",
    "max_features = ['log2', 'sqrt']\n",
    "criterions = [\"entropy\", \"gini\"]\n",
    "max_depth = [int(x) for x in np.linspace(start = 5, stop = 50, num = 10)]\n",
    "min_samples_split = [int(x) for x in np.linspace(start = 2, stop = 300, num = 20)]\n",
    "min_samples_leaf = [int(x) for x in np.linspace(start = 10, stop = 100, num = 15)]\n",
    "bootstrap = [True, False]\n",
    "param_dist = {'n_estimators': n_estimators,\n",
    "               'max_features': max_features,\n",
    "               'max_depth': max_depth,\n",
    "               'min_samples_split': min_samples_split,\n",
    "               'min_samples_leaf': min_samples_leaf,\n",
    "               'bootstrap': bootstrap,\n",
    "               'criterion': criterions\n",
    "             }\n",
    "rs = RandomizedSearchCV(RandomForestClassifier(), \n",
    "                        param_dist, \n",
    "                        n_iter = 20, \n",
    "                        cv = 2, \n",
    "                        verbose = 1, \n",
    "                        n_jobs=-1, \n",
    "                        random_state=666,\n",
    "                        scoring='recall'\n",
    "                        )\n",
    "rs.fit(X_train, y_train)\n",
    "rs.best_params_"
   ]
  },
  {
   "cell_type": "code",
   "execution_count": 18,
   "id": "3bdd5be5",
   "metadata": {},
   "outputs": [
    {
     "data": {
      "text/plain": [
       "array([[123427,   2271],\n",
       "       [   103,  43045]], dtype=int64)"
      ]
     },
     "execution_count": 18,
     "metadata": {},
     "output_type": "execute_result"
    }
   ],
   "source": [
    "y_pred_rs = rs.best_estimator_.predict(X_test)\n",
    "confusion_matrix(y_test, y_pred_rs)"
   ]
  },
  {
   "cell_type": "code",
   "execution_count": 19,
   "id": "62605de6",
   "metadata": {},
   "outputs": [
    {
     "name": "stdout",
     "output_type": "stream",
     "text": [
      "              precision    recall  f1-score   support\n",
      "\n",
      "           0       1.00      0.98      0.99    125698\n",
      "           1       0.95      1.00      0.97     43148\n",
      "\n",
      "    accuracy                           0.99    168846\n",
      "   macro avg       0.97      0.99      0.98    168846\n",
      "weighted avg       0.99      0.99      0.99    168846\n",
      "\n"
     ]
    }
   ],
   "source": [
    "print(classification_report(y_test, y_pred_rs, target_names=[\"0\", \"1\"]))"
   ]
  },
  {
   "cell_type": "code",
   "execution_count": 20,
   "id": "6a38137d",
   "metadata": {},
   "outputs": [
    {
     "data": {
      "text/plain": [
       "['model.pkl']"
      ]
     },
     "execution_count": 20,
     "metadata": {},
     "output_type": "execute_result"
    }
   ],
   "source": [
    "import joblib\n",
    "joblib.dump(rs.best_estimator_, \"model.pkl\") "
   ]
  },
  {
   "cell_type": "code",
   "execution_count": null,
   "id": "6f7b94a6",
   "metadata": {},
   "outputs": [],
   "source": []
  }
 ],
 "metadata": {
  "kernelspec": {
   "display_name": "Python 3 (ipykernel)",
   "language": "python",
   "name": "python3"
  },
  "language_info": {
   "codemirror_mode": {
    "name": "ipython",
    "version": 3
   },
   "file_extension": ".py",
   "mimetype": "text/x-python",
   "name": "python",
   "nbconvert_exporter": "python",
   "pygments_lexer": "ipython3",
   "version": "3.9.6"
  }
 },
 "nbformat": 4,
 "nbformat_minor": 5
}
